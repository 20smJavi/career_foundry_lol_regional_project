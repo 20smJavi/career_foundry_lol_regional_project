{
 "cells": [
  {
   "cell_type": "markdown",
   "id": "707c075a",
   "metadata": {},
   "source": [
    "# Table of contents\n",
    "## 01. Importing libraries and data\n",
    "## 02. Data checks\n",
    "## 03. Data prep\n",
    "## 04. Hypothesis 1\n",
    "    Splitting data\n",
    "    Regrssion Analysis\n",
    "    Comparing predicted to actual values\n",
    "    Comparing how the regression fits the training set\n",
    "## 05. Hypothesis 2\n",
    "    Splitting data\n",
    "    Regrssion Analysis\n",
    "    Comparing predicted to actual values\n",
    "    Comparing how the regression fits the training set\n",
    "## 06. Review"
   ]
  },
  {
   "cell_type": "markdown",
   "id": "ecaf8eb1",
   "metadata": {},
   "source": [
    "## 01. Importing libraries and data"
   ]
  },
  {
   "cell_type": "code",
   "execution_count": null,
   "id": "8aeca71b",
   "metadata": {},
   "outputs": [],
   "source": [
    "# Importing Libraries\n",
    "import pandas as pd\n",
    "import numpy as np\n",
    "import seaborn as sns\n",
    "import matplotlib\n",
    "import matplotlib.pyplot as plt\n",
    "import os\n",
    "import sklearn\n",
    "from sklearn.model_selection import train_test_split \n",
    "from sklearn.linear_model import LinearRegression\n",
    "from sklearn.metrics import mean_squared_error, r2_score"
   ]
  },
  {
   "cell_type": "code",
   "execution_count": null,
   "id": "3840f119",
   "metadata": {},
   "outputs": [],
   "source": [
    "# Importing Data\n",
    "path = r'C:\\Users\\javir\\Downloads\\Javis Data Analytics stuff\\Achievement 6\\LoL Regional Project'\n",
    "df = pd.read_csv(os.path.join(path,'02 Data', 'Prepared Data', 'combined.csv'), index_col = False)"
   ]
  },
  {
   "cell_type": "code",
   "execution_count": null,
   "id": "9c0ffe9b",
   "metadata": {},
   "outputs": [],
   "source": [
    "# Shee all columns\n",
    "pd.set_option('display.max_columns', None)"
   ]
  },
  {
   "cell_type": "code",
   "execution_count": null,
   "id": "461ae996",
   "metadata": {},
   "outputs": [],
   "source": [
    "# Checking our data shape\n",
    "df.shape"
   ]
  },
  {
   "cell_type": "markdown",
   "id": "53dad4a8",
   "metadata": {},
   "source": [
    "## 02. Data checks"
   ]
  },
  {
   "cell_type": "code",
   "execution_count": null,
   "id": "cc3d03c5",
   "metadata": {},
   "outputs": [],
   "source": [
    "df"
   ]
  },
  {
   "cell_type": "code",
   "execution_count": null,
   "id": "b933e698",
   "metadata": {},
   "outputs": [],
   "source": [
    "# Checking for missing values\n",
    "df.isnull().sum()"
   ]
  },
  {
   "cell_type": "code",
   "execution_count": null,
   "id": "6c362aee",
   "metadata": {},
   "outputs": [],
   "source": [
    "# Checking for duplicated rows\n",
    "df_dups = df.duplicated()"
   ]
  },
  {
   "cell_type": "code",
   "execution_count": null,
   "id": "e0096a84",
   "metadata": {},
   "outputs": [],
   "source": [
    "df_dups.value_counts()"
   ]
  },
  {
   "cell_type": "markdown",
   "id": "ef6b6c46",
   "metadata": {},
   "source": [
    "## 03. Data Prep"
   ]
  },
  {
   "cell_type": "markdown",
   "id": "129d40a2",
   "metadata": {},
   "source": [
    "Creating scatterplots for potential regrssion analysis"
   ]
  },
  {
   "cell_type": "code",
   "execution_count": null,
   "id": "38ec38e8",
   "metadata": {},
   "outputs": [],
   "source": [
    "df.plot(x = 'tower_kills', y='inhibitor_kills',style='o')\n",
    "plt.title('Number of towers destroyed to how many inhibitors destroyed')  \n",
    "plt.xlabel('Towers destroyed')  \n",
    "plt.ylabel('Inhibitors destroyed')  \n",
    "plt.show()"
   ]
  },
  {
   "cell_type": "markdown",
   "id": "aeff1d3f",
   "metadata": {},
   "source": [
    "## Adding a new column for 'total objective score'"
   ]
  },
  {
   "cell_type": "markdown",
   "id": "a043896e",
   "metadata": {},
   "source": [
    "An interesting idea is perhaps adding total counts of 'first_\"objective\"' as they are booleans but we can add the 1's together and call it an objective score as well as adding the other objectives to the total count"
   ]
  },
  {
   "cell_type": "code",
   "execution_count": null,
   "id": "bc7a03c4",
   "metadata": {},
   "outputs": [],
   "source": [
    "df['total_objective_score'] = df['first_blood'] + df['first_tower'] + df['first_inhibitor'] + df['first_dragon'] + df['first_baron'] + df['tower_kills'] + df['inhibitor_kills'] + df['dragon_kills'] + df['first_rift_herald'] + df['baron_kills']"
   ]
  },
  {
   "cell_type": "code",
   "execution_count": null,
   "id": "441f00f8",
   "metadata": {},
   "outputs": [],
   "source": [
    "df.plot(x = 'total_objective_score', y='wards_placed',style='o')\n",
    "plt.title('How does wards placed affect objectives taken')  \n",
    "plt.xlabel('Objectives secured')  \n",
    "plt.ylabel('Wards placed as team')  \n",
    "plt.show()"
   ]
  },
  {
   "cell_type": "code",
   "execution_count": null,
   "id": "fb29491c",
   "metadata": {},
   "outputs": [],
   "source": [
    "df.plot(x = 'total_objective_score', y='team_kills',style='o')\n",
    "plt.title('How does wards placed affect team kills')  \n",
    "plt.xlabel('Team kills')  \n",
    "plt.ylabel('Wards placed as team')  \n",
    "plt.show()"
   ]
  },
  {
   "cell_type": "markdown",
   "id": "f01b7d65",
   "metadata": {},
   "source": [
    "#### Forming a hypothesis"
   ]
  },
  {
   "cell_type": "markdown",
   "id": "ef87d5b4",
   "metadata": {},
   "source": [
    "I will be testing 2 hypotheses, they will be extremely similiar as they share a common value, but we will best comparing the results afterwards.\n",
    "\n",
    "1. If 'wards_palced' increases, then 'total_objectives_scored' should also increase\n",
    "2. If 'wards_palced' increases, then 'team_kills' should also increase\n",
    "\n",
    "Just based off how games function, this question is something we can answer just with game knowledge, however we can test how strong of a correlation that is, and compare them against one another."
   ]
  },
  {
   "cell_type": "markdown",
   "id": "d6102d18",
   "metadata": {},
   "source": [
    "## 04. Hypothesis 1"
   ]
  },
  {
   "cell_type": "markdown",
   "id": "a1e99de2",
   "metadata": {},
   "source": [
    "#### Splitting data"
   ]
  },
  {
   "cell_type": "code",
   "execution_count": null,
   "id": "fd4146d0",
   "metadata": {},
   "outputs": [],
   "source": [
    "# Reshaping the variables into Numpy arrays\n",
    "x_1 = df['total_objective_score'].values.reshape(-1,1)\n",
    "y_1 = df['wards_placed'].values.reshape(-1,1)"
   ]
  },
  {
   "cell_type": "code",
   "execution_count": null,
   "id": "b54d3e80",
   "metadata": {},
   "outputs": [],
   "source": [
    "x_1"
   ]
  },
  {
   "cell_type": "code",
   "execution_count": null,
   "id": "b9e0f094",
   "metadata": {},
   "outputs": [],
   "source": [
    "y_1"
   ]
  },
  {
   "cell_type": "code",
   "execution_count": null,
   "id": "b283a1c7",
   "metadata": {},
   "outputs": [],
   "source": [
    "# Splitting data into a training set and a test set\n",
    "x_1_train, x_1_test, y_1_train, y_1_test = train_test_split(x_1, y_1, test_size=0.3, random_state=0)"
   ]
  },
  {
   "cell_type": "markdown",
   "id": "38af99d5",
   "metadata": {},
   "source": [
    "#### Regrssion Analysis"
   ]
  },
  {
   "cell_type": "code",
   "execution_count": null,
   "id": "1f69588a",
   "metadata": {},
   "outputs": [],
   "source": [
    "# Creatubg a regression object\n",
    "hyp_1_regression = LinearRegression()"
   ]
  },
  {
   "cell_type": "code",
   "execution_count": null,
   "id": "729dd998",
   "metadata": {},
   "outputs": [],
   "source": [
    "# Fitting the regression object onto the training set\n",
    "hyp_1_regression.fit(x_1_train, y_1_train)"
   ]
  },
  {
   "cell_type": "code",
   "execution_count": null,
   "id": "35c02091",
   "metadata": {},
   "outputs": [],
   "source": [
    "# Predict the values of y_1 using x_1_test.\n",
    "y_1_predicted = hyp_1_regression.predict(x_1_test)"
   ]
  },
  {
   "cell_type": "code",
   "execution_count": null,
   "id": "bca54ff3",
   "metadata": {
    "scrolled": false
   },
   "outputs": [],
   "source": [
    "# Creating a plot showing a regression line\n",
    "plot_test = plt\n",
    "plot_test.scatter(x_1_test, y_1_test, color = 'gray', s = 15)\n",
    "plot_test.plot(x_1_test, y_1_predicted, color = 'red', linewidth = 3)\n",
    "plot_test.title('How does wards placed affect objectives taken')\n",
    "plot_test.xlabel('Objectives secured')\n",
    "plot_test.ylabel('Wards placed as team')\n",
    "plot_test.show()"
   ]
  },
  {
   "cell_type": "markdown",
   "id": "d1b1dc38",
   "metadata": {},
   "source": [
    "Based off the chart, there is a small positive correlation that if 'wards_placed' increases, then 'total_objective_score' increases positively as well"
   ]
  },
  {
   "cell_type": "code",
   "execution_count": null,
   "id": "fdb40f8f",
   "metadata": {},
   "outputs": [],
   "source": [
    "# Creating objects that contain the model summary statistics.\n",
    "hyp_1_rmse = mean_squared_error(y_1_test, y_1_predicted)\n",
    "hyp_1_r2 = r2_score(y_1_test, y_1_predicted)"
   ]
  },
  {
   "cell_type": "code",
   "execution_count": null,
   "id": "869a97ee",
   "metadata": {},
   "outputs": [],
   "source": [
    "# Printing the model summary statistics.\n",
    "print('Slope:' ,hyp_1_regression.coef_)\n",
    "print('Mean squared error: ', hyp_1_rmse)\n",
    "print('R2 score: ', hyp_1_r2)"
   ]
  },
  {
   "cell_type": "code",
   "execution_count": null,
   "id": "d459e4b7",
   "metadata": {},
   "outputs": [],
   "source": [
    "y_1_predicted"
   ]
  },
  {
   "cell_type": "markdown",
   "id": "1e4fa55b",
   "metadata": {},
   "source": [
    "#### Comparing predicted to actual values"
   ]
  },
  {
   "cell_type": "code",
   "execution_count": null,
   "id": "d6a9f2b0",
   "metadata": {},
   "outputs": [],
   "source": [
    "# Create a dataframe comparing the actual and predicted values of y.\n",
    "hyp_1_data = pd.DataFrame({'Actual': y_1_test.flatten(), 'Predicted': y_1_predicted.flatten()})\n",
    "hyp_1_data.head(30)"
   ]
  },
  {
   "cell_type": "markdown",
   "id": "9a9cb4a4",
   "metadata": {},
   "source": [
    "#### Comparing how the regression fits the training set"
   ]
  },
  {
   "cell_type": "code",
   "execution_count": null,
   "id": "e1ec7049",
   "metadata": {},
   "outputs": [],
   "source": [
    "# Predict the values of y_1 using x_1_train.\n",
    "y_1_predicted_train = hyp_1_regression.predict(x_1_train)"
   ]
  },
  {
   "cell_type": "code",
   "execution_count": null,
   "id": "d23dfb24",
   "metadata": {},
   "outputs": [],
   "source": [
    "# Creating objects that contain the model summary statistics.\n",
    "hyp_1_rmse = mean_squared_error(y_1_train, y_1_predicted_train)\n",
    "hyp_1_r2 = r2_score(y_1_train, y_1_predicted_train)"
   ]
  },
  {
   "cell_type": "code",
   "execution_count": null,
   "id": "0b9a9ef7",
   "metadata": {},
   "outputs": [],
   "source": [
    "# Printing statistics\n",
    "print('Slope:' ,hyp_1_regression.coef_)\n",
    "print('Mean squared error: ', hyp_1_rmse)\n",
    "print('R2 score: ', hyp_1_r2)"
   ]
  },
  {
   "cell_type": "code",
   "execution_count": null,
   "id": "c4729402",
   "metadata": {
    "scrolled": true
   },
   "outputs": [],
   "source": [
    "# Visualizing the training set results.\n",
    "plot_test = plt\n",
    "plot_test.scatter(x_1_train, y_1_train, color='green', s = 15)\n",
    "plot_test.plot(x_1_train, y_1_predicted_train, color='red', linewidth =3)\n",
    "plot_test.title('How does wards placed affect objectives taken')\n",
    "plot_test.xlabel('Objectives secured')\n",
    "plot_test.ylabel('Wards placed as team')\n",
    "plot_test.show()"
   ]
  },
  {
   "cell_type": "markdown",
   "id": "fc488203",
   "metadata": {},
   "source": [
    "## 05. Hypothesis 2"
   ]
  },
  {
   "cell_type": "markdown",
   "id": "edb00eb3",
   "metadata": {},
   "source": [
    "#### Splitting data"
   ]
  },
  {
   "cell_type": "code",
   "execution_count": null,
   "id": "a686adaa",
   "metadata": {},
   "outputs": [],
   "source": [
    "# Reshaping the variables into Numpy arrays\n",
    "x_2 = df['total_objective_score'].values.reshape(-1,1)\n",
    "y_2 = df['team_kills'].values.reshape(-1,1)"
   ]
  },
  {
   "cell_type": "code",
   "execution_count": null,
   "id": "2e97d4b3",
   "metadata": {},
   "outputs": [],
   "source": [
    "x_2"
   ]
  },
  {
   "cell_type": "code",
   "execution_count": null,
   "id": "bd7d84cf",
   "metadata": {},
   "outputs": [],
   "source": [
    "y_2"
   ]
  },
  {
   "cell_type": "code",
   "execution_count": null,
   "id": "fc310e0b",
   "metadata": {},
   "outputs": [],
   "source": [
    "# Splitting data into a training set and a test set\n",
    "x_2_train, x_2_test, y_2_train, y_2_test = train_test_split(x_2, y_2, test_size=0.3, random_state=0)"
   ]
  },
  {
   "cell_type": "markdown",
   "id": "90738d43",
   "metadata": {},
   "source": [
    "#### Regrssion Analysis"
   ]
  },
  {
   "cell_type": "code",
   "execution_count": null,
   "id": "7ca27546",
   "metadata": {},
   "outputs": [],
   "source": [
    "# Creatubg a regression object\n",
    "hyp_2_regression = LinearRegression()"
   ]
  },
  {
   "cell_type": "code",
   "execution_count": null,
   "id": "69c9833f",
   "metadata": {},
   "outputs": [],
   "source": [
    "# Fitting the regression object onto the training set\n",
    "hyp_2_regression.fit(x_2_train, y_2_train)"
   ]
  },
  {
   "cell_type": "code",
   "execution_count": null,
   "id": "c4a273c6",
   "metadata": {},
   "outputs": [],
   "source": [
    "# Predict the values of y_2 using x_2_test.\n",
    "y_2_predicted = hyp_2_regression.predict(x_2_test)"
   ]
  },
  {
   "cell_type": "code",
   "execution_count": null,
   "id": "643040af",
   "metadata": {
    "scrolled": false
   },
   "outputs": [],
   "source": [
    "# Creating a plot showing a regression line\n",
    "plot_test = plt\n",
    "plot_test.scatter(x_2_test, y_2_test, color = 'gray', s = 15)\n",
    "plot_test.plot(x_2_test, y_2_predicted, color = 'red', linewidth = 3)\n",
    "plot_test.title('How does wards placed affect team kills')\n",
    "plot_test.xlabel('Team Kills')\n",
    "plot_test.ylabel('Wards placed as team')\n",
    "plot_test.show()"
   ]
  },
  {
   "cell_type": "markdown",
   "id": "3b25f69d",
   "metadata": {},
   "source": [
    "Based off the chart, there is a positive correlation that if 'wards_placed' increases, then 'team_kills' increases positively as well"
   ]
  },
  {
   "cell_type": "code",
   "execution_count": null,
   "id": "62b8501f",
   "metadata": {},
   "outputs": [],
   "source": [
    "# Creating objects that contain the model summary statistics.\n",
    "hyp_2_rmse = mean_squared_error(y_2_test, y_2_predicted)\n",
    "hyp_2_r2 = r2_score(y_2_test, y_2_predicted)"
   ]
  },
  {
   "cell_type": "code",
   "execution_count": null,
   "id": "7d141391",
   "metadata": {},
   "outputs": [],
   "source": [
    "# Printing the model summary statistics.\n",
    "print('Slope:' ,hyp_2_regression.coef_)\n",
    "print('Mean squared error: ', hyp_2_rmse)\n",
    "print('R2 score: ', hyp_2_r2)"
   ]
  },
  {
   "cell_type": "code",
   "execution_count": null,
   "id": "b9422df8",
   "metadata": {},
   "outputs": [],
   "source": [
    "y_2_predicted"
   ]
  },
  {
   "cell_type": "markdown",
   "id": "694bc9da",
   "metadata": {},
   "source": [
    "#### Comparing predicted to actual values"
   ]
  },
  {
   "cell_type": "code",
   "execution_count": null,
   "id": "7b0e90a2",
   "metadata": {},
   "outputs": [],
   "source": [
    "# Create a dataframe comparing the actual and predicted values of y_2.\n",
    "hyp_2_data = pd.DataFrame({'Actual': y_2_test.flatten(), 'Predicted': y_2_predicted.flatten()})\n",
    "hyp_2_data.head(30)"
   ]
  },
  {
   "cell_type": "markdown",
   "id": "b3432b6a",
   "metadata": {},
   "source": [
    "#### Comparing how the regression fits the training set"
   ]
  },
  {
   "cell_type": "code",
   "execution_count": null,
   "id": "75e33524",
   "metadata": {},
   "outputs": [],
   "source": [
    "# Predict the values of y_2 using x_2_train.\n",
    "y_2_predicted_train = hyp_2_regression.predict(x_2_train)"
   ]
  },
  {
   "cell_type": "code",
   "execution_count": null,
   "id": "1364c078",
   "metadata": {},
   "outputs": [],
   "source": [
    "# Creating objects that contain the model summary statistics.\n",
    "hyp_2_rmse = mean_squared_error(y_2_train, y_2_predicted_train)\n",
    "hyp_2_r2 = r2_score(y_2_train, y_2_predicted_train)"
   ]
  },
  {
   "cell_type": "code",
   "execution_count": null,
   "id": "1681f6ea",
   "metadata": {
    "scrolled": true
   },
   "outputs": [],
   "source": [
    "# Printing statistics\n",
    "print('Slope:' ,hyp_2_regression.coef_)\n",
    "print('Mean squared error: ', hyp_2_rmse)\n",
    "print('R2 score: ', hyp_2_r2)"
   ]
  },
  {
   "cell_type": "code",
   "execution_count": null,
   "id": "e8d04f88",
   "metadata": {
    "scrolled": false
   },
   "outputs": [],
   "source": [
    "# Visualizing the training set results.\n",
    "plot_test = plt\n",
    "plot_test.scatter(x_2_train, y_2_train, color='green', s = 15)\n",
    "plot_test.plot(x_2_train, y_2_predicted_train, color='red', linewidth =3)\n",
    "plot_test.title('How does wards placed affect team kills')\n",
    "plot_test.xlabel('Team Kills')\n",
    "plot_test.ylabel('Wards placed as team')\n",
    "plot_test.show()"
   ]
  },
  {
   "cell_type": "markdown",
   "id": "c83ff737",
   "metadata": {},
   "source": [
    "## 06. Review"
   ]
  },
  {
   "cell_type": "markdown",
   "id": "aa107e7a",
   "metadata": {},
   "source": [
    "### Hypothesis 1:\n",
    "#### Test:\n",
    "\n",
    "Slope: [[1.05778613]]\n",
    "\n",
    "Mean squared error:  877.0871116269279\n",
    "\n",
    "R2 score:  0.06299547240853764\n",
    "\n",
    "#### Actual vs Prediction:\n",
    "Actual vs Prediction is really off\n",
    "\n",
    "#### Train:\n",
    "\n",
    "Slope: [[1.05778613]]\n",
    "\n",
    "Mean squared error:  874.6596319597527\n",
    "\n",
    "R2 score:  0.06455827560435656"
   ]
  },
  {
   "cell_type": "markdown",
   "id": "1f34a318",
   "metadata": {},
   "source": [
    "### Hypothesis 2:\n",
    "#### Test:\n",
    "\n",
    "Slope: [[0.85331345]]\n",
    "\n",
    "Mean squared error:  82.54868455223259\n",
    "\n",
    "R2 score:  0.32294500959355865\n",
    "\n",
    "#### Actual vs Prediction:\n",
    "Actual vs Prediction is spotty\n",
    "\n",
    "#### Train:\n",
    "\n",
    "Slope: [[0.85331345]]\n",
    "\n",
    "Mean squared error:  82.44335067800085\n",
    "\n",
    "R2 score:  0.3227111667848992"
   ]
  },
  {
   "cell_type": "markdown",
   "id": "4036c1ee",
   "metadata": {},
   "source": [
    "From the chart, Hypothesis 2 seems to have a higher positive correlation, however, that is because Hypothesis 1 has a wider X-Axis, so the charts, from a first-glance perspective are a little decieving, Hypo 1 has a slope/corr of 1.05 while Hypo 2 has a slope of 0.85. Both Hypotheses Test and Train statistics are nearly identical with very little change, also both in the 'Actual Values vs Prediction Value' are really off, but Hypothesis 2 does have predictions value that are the same as actual values. Comparing the two together, I'd say that based off the MSE these models are not the best fit. Hypo 1 also has a large variance, likely due to larger numbers achievable than Hypo 2. Through these tests, we can say that, 'wards_placed' have a higher positive correlation to 'total_objectives_secured' than 'team_kills'."
   ]
  },
  {
   "cell_type": "code",
   "execution_count": null,
   "id": "2ce6d4ab",
   "metadata": {},
   "outputs": [],
   "source": []
  }
 ],
 "metadata": {
  "kernelspec": {
   "display_name": "Python 3",
   "language": "python",
   "name": "python3"
  },
  "language_info": {
   "codemirror_mode": {
    "name": "ipython",
    "version": 3
   },
   "file_extension": ".py",
   "mimetype": "text/x-python",
   "name": "python",
   "nbconvert_exporter": "python",
   "pygments_lexer": "ipython3",
   "version": "3.8.10"
  }
 },
 "nbformat": 4,
 "nbformat_minor": 5
}
